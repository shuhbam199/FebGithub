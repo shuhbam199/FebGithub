{
  "nbformat": 4,
  "nbformat_minor": 0,
  "metadata": {
    "colab": {
      "provenance": [],
      "authorship_tag": "ABX9TyN4e4+PeX5MljtBfUCcqVgx",
      "include_colab_link": true
    },
    "kernelspec": {
      "name": "python3",
      "display_name": "Python 3"
    },
    "language_info": {
      "name": "python"
    }
  },
  "cells": [
    {
      "cell_type": "markdown",
      "metadata": {
        "id": "view-in-github",
        "colab_type": "text"
      },
      "source": [
        "<a href=\"https://colab.research.google.com/github/shuhbam199/FebGithub/blob/main/Porter_delivery_time%20prediction.ipynb\" target=\"_parent\"><img src=\"https://colab.research.google.com/assets/colab-badge.svg\" alt=\"Open In Colab\"/></a>"
      ]
    },
    {
      "cell_type": "markdown",
      "source": [
        "\n",
        "# Defining the problem statements and where can this and modifications of this be used?\n",
        "\n",
        "\n",
        "Predict the delivery time taken by partner to deliver any item from shop to the customer considering the market area, category of store, number of items, and other important info available in fields given."
      ],
      "metadata": {
        "id": "uIIKinINtfKu"
      }
    },
    {
      "cell_type": "markdown",
      "source": [
        "# Get data"
      ],
      "metadata": {
        "id": "jomRrfalu90g"
      }
    },
    {
      "cell_type": "code",
      "execution_count": null,
      "metadata": {
        "colab": {
          "base_uri": "https://localhost:8080/"
        },
        "id": "ZuuvKXISjev6",
        "outputId": "479db241-df5c-442d-e991-349ebe15abd6"
      },
      "outputs": [
        {
          "output_type": "stream",
          "name": "stdout",
          "text": [
            "<class 'pandas.core.frame.DataFrame'>\n",
            "RangeIndex: 197428 entries, 0 to 197427\n",
            "Data columns (total 14 columns):\n",
            " #   Column                    Non-Null Count   Dtype  \n",
            "---  ------                    --------------   -----  \n",
            " 0   market_id                 196441 non-null  float64\n",
            " 1   created_at                197428 non-null  object \n",
            " 2   actual_delivery_time      197421 non-null  object \n",
            " 3   store_id                  197428 non-null  object \n",
            " 4   store_primary_category    192668 non-null  object \n",
            " 5   order_protocol            196433 non-null  float64\n",
            " 6   total_items               197428 non-null  int64  \n",
            " 7   subtotal                  197428 non-null  int64  \n",
            " 8   num_distinct_items        197428 non-null  int64  \n",
            " 9   min_item_price            197428 non-null  int64  \n",
            " 10  max_item_price            197428 non-null  int64  \n",
            " 11  total_onshift_partners    181166 non-null  float64\n",
            " 12  total_busy_partners       181166 non-null  float64\n",
            " 13  total_outstanding_orders  181166 non-null  float64\n",
            "dtypes: float64(5), int64(5), object(4)\n",
            "memory usage: 21.1+ MB\n"
          ]
        }
      ],
      "source": [
        "import pandas as pd\n",
        "import numpy as np\n",
        "\n",
        "# Load the dataset\n",
        "df = pd.read_csv('porter.csv')\n",
        "\n",
        "# Display basic information about the dataset\n",
        "df.info()"
      ]
    },
    {
      "cell_type": "code",
      "source": [
        "df['store_primary_category'].fillna('unknown', inplace = True)"
      ],
      "metadata": {
        "colab": {
          "base_uri": "https://localhost:8080/"
        },
        "id": "uS0XzE7cogzQ",
        "outputId": "f0672871-73cd-4cdc-bc6d-9adaffcba35b"
      },
      "execution_count": null,
      "outputs": [
        {
          "output_type": "stream",
          "name": "stderr",
          "text": [
            "<ipython-input-7-ffe598ffc22c>:1: FutureWarning: A value is trying to be set on a copy of a DataFrame or Series through chained assignment using an inplace method.\n",
            "The behavior will change in pandas 3.0. This inplace method will never work because the intermediate object on which we are setting values always behaves as a copy.\n",
            "\n",
            "For example, when doing 'df[col].method(value, inplace=True)', try using 'df.method({col: value}, inplace=True)' or df[col] = df[col].method(value) instead, to perform the operation inplace on the original object.\n",
            "\n",
            "\n",
            "  df['store_primary_category'].fillna('unknown', inplace = True)\n"
          ]
        }
      ]
    },
    {
      "cell_type": "markdown",
      "source": [
        "# Feature engineering"
      ],
      "metadata": {
        "id": "v44JNc1ruuBT"
      }
    },
    {
      "cell_type": "code",
      "source": [
        "# calculate actual time taken\n",
        "df['actual_delivery_time'] = pd.to_datetime(df['actual_delivery_time'])\n",
        "df['created_at'] = pd.to_datetime(df['created_at'])\n",
        "df['time_taken'] = df['actual_delivery_time']- df['created_at']\n",
        "df['time_taken'] = np.round(df['time_taken'].dt.total_seconds()/60,2)"
      ],
      "metadata": {
        "id": "KX49T6KUoKfn"
      },
      "execution_count": null,
      "outputs": []
    },
    {
      "cell_type": "code",
      "source": [
        "# Extract hour of the day and day of the week, month, year\n",
        "df['order_hour'] = df['created_at'].dt.hour\n",
        "df['order_day_of_week'] = df['created_at'].dt.dayofweek\n",
        "# Extract hour of the day and day of the week\n",
        "df['order_month'] = df['created_at'].dt.month\n",
        "df['order_year'] = df['created_at'].dt.year\n",
        "\n"
      ],
      "metadata": {
        "id": "APtQrh_p0yK2"
      },
      "execution_count": null,
      "outputs": []
    },
    {
      "cell_type": "markdown",
      "source": [
        "# Encode the categorical fields"
      ],
      "metadata": {
        "id": "PBbIUfJ2upf6"
      }
    },
    {
      "cell_type": "code",
      "source": [
        "for col in df.columns:\n",
        "  if df[col].dtype == 'object':\n",
        "    print(col)\n"
      ],
      "metadata": {
        "colab": {
          "base_uri": "https://localhost:8080/"
        },
        "id": "3xHhwzOZc4xG",
        "outputId": "86a1e251-e535-4135-8ec6-18e6f68eaf8d"
      },
      "execution_count": null,
      "outputs": [
        {
          "output_type": "stream",
          "name": "stdout",
          "text": [
            "store_id\n",
            "store_primary_category\n"
          ]
        }
      ]
    },
    {
      "cell_type": "code",
      "source": [
        "#target_encode\n",
        "df['store_cat_encoded'] = np.round(df.groupby('store_primary_category')['order_hour'].transform('mean'),2)\n",
        "df['store_cat_encoded']= np.where(df['store_primary_category'] == 'tapas',6.39,df['store_cat_encoded'])\n",
        "df['store_cat_encoded']= np.where(df['store_primary_category'] == 'german',7.53,df['store_cat_encoded'])\n",
        "df['store_cat_encoded']= np.where(df['store_primary_category'] == 'burger',8.40,df['store_cat_encoded'])"
      ],
      "metadata": {
        "id": "CkL7az4uqGr_"
      },
      "execution_count": null,
      "outputs": []
    },
    {
      "cell_type": "code",
      "source": [
        "store_enco = df[['store_primary_category', 'store_cat_encoded']].drop_duplicates()\n",
        "df.drop('store_primary_category', axis = 1, inplace = True)"
      ],
      "metadata": {
        "id": "NJuyWwkfo6Ip"
      },
      "execution_count": null,
      "outputs": []
    },
    {
      "cell_type": "code",
      "source": [
        "for col in df.columns:\n",
        "  if df[col].dtype == 'object':\n",
        "    print(col)"
      ],
      "metadata": {
        "colab": {
          "base_uri": "https://localhost:8080/"
        },
        "id": "EwFxgs82HH1U",
        "outputId": "aa4b2789-3d85-4f6d-f655-f346912831f2"
      },
      "execution_count": null,
      "outputs": [
        {
          "output_type": "stream",
          "name": "stdout",
          "text": [
            "store_id\n"
          ]
        }
      ]
    },
    {
      "cell_type": "code",
      "source": [
        "df2 = df.copy()\n",
        "df2.drop(['created_at','actual_delivery_time'], axis =1, inplace = True)"
      ],
      "metadata": {
        "id": "KsRvceTEHOfK"
      },
      "execution_count": null,
      "outputs": []
    },
    {
      "cell_type": "code",
      "source": [
        "# un necessary field\n",
        "df2.drop(['store_id'],axis = 1, inplace = True)\n"
      ],
      "metadata": {
        "collapsed": true,
        "id": "28F4xACTkzDJ"
      },
      "execution_count": null,
      "outputs": []
    },
    {
      "cell_type": "code",
      "source": [
        "df2.dropna(inplace = True)"
      ],
      "metadata": {
        "id": "vCtidY97lQpo"
      },
      "execution_count": null,
      "outputs": []
    },
    {
      "cell_type": "code",
      "source": [
        "len(df2)"
      ],
      "metadata": {
        "colab": {
          "base_uri": "https://localhost:8080/"
        },
        "id": "jF8JK42zntjW",
        "outputId": "356ce389-e006-443b-c7c6-2cd80cf34afb"
      },
      "execution_count": null,
      "outputs": [
        {
          "output_type": "execute_result",
          "data": {
            "text/plain": [
              "197419"
            ]
          },
          "metadata": {},
          "execution_count": 312
        }
      ]
    },
    {
      "cell_type": "code",
      "source": [
        "df2.head(10)"
      ],
      "metadata": {
        "colab": {
          "base_uri": "https://localhost:8080/",
          "height": 383
        },
        "id": "pMDBVUy8mlW1",
        "outputId": "92848e22-1439-4b87-9f46-4350c575224f"
      },
      "execution_count": null,
      "outputs": [
        {
          "output_type": "execute_result",
          "data": {
            "text/plain": [
              "   market_id  order_protocol  total_items  subtotal  num_distinct_items  \\\n",
              "0        1.0             1.0            4      3441                   4   \n",
              "1        2.0             2.0            1      1900                   1   \n",
              "2        3.0             1.0            1      1900                   1   \n",
              "3        3.0             1.0            6      6900                   5   \n",
              "4        3.0             1.0            3      3900                   3   \n",
              "5        3.0             1.0            3      5000                   3   \n",
              "6        3.0             1.0            2      3900                   2   \n",
              "7        3.0             1.0            4      4850                   4   \n",
              "8        2.0             3.0            4      4771                   3   \n",
              "9        3.0             1.0            2      2100                   2   \n",
              "\n",
              "   min_item_price  max_item_price  total_onshift_partners  \\\n",
              "0             557            1239                    33.0   \n",
              "1            1400            1400                     1.0   \n",
              "2            1900            1900                     1.0   \n",
              "3             600            1800                     1.0   \n",
              "4            1100            1600                     6.0   \n",
              "5            1500            1900                     2.0   \n",
              "6            1200            2700                    10.0   \n",
              "7             750            1800                     7.0   \n",
              "8             820            1604                     8.0   \n",
              "9             700            1200                     2.0   \n",
              "\n",
              "   total_busy_partners  total_outstanding_orders  time_taken  order_hour  \\\n",
              "0                 14.0                      21.0       62.98          22   \n",
              "1                  2.0                       2.0       67.07          21   \n",
              "2                  0.0                       0.0       29.68          20   \n",
              "3                  1.0                       2.0       51.25          21   \n",
              "4                  6.0                       9.0       39.83           2   \n",
              "5                  2.0                       2.0       38.33          20   \n",
              "6                  9.0                       9.0       26.40           2   \n",
              "7                  8.0                       7.0       32.75           3   \n",
              "8                  6.0                      18.0       26.43           0   \n",
              "9                  2.0                       2.0       53.20           1   \n",
              "\n",
              "   order_day_of_week  order_month  order_year  store_cat_encoded  \n",
              "0                  4            2        2015               9.09  \n",
              "1                  1            2        2015               8.51  \n",
              "2                  3            1        2015               8.11  \n",
              "3                  1            2        2015               8.11  \n",
              "4                  6            2        2015               8.11  \n",
              "5                  2            1        2015               8.11  \n",
              "6                  5            1        2015               8.11  \n",
              "7                  3            2        2015               8.11  \n",
              "8                  0            2        2015               6.43  \n",
              "9                  2            2        2015               8.11  "
            ],
            "text/html": [
              "\n",
              "  <div id=\"df-93442263-78e6-40c7-8f56-b62b02510e34\" class=\"colab-df-container\">\n",
              "    <div>\n",
              "<style scoped>\n",
              "    .dataframe tbody tr th:only-of-type {\n",
              "        vertical-align: middle;\n",
              "    }\n",
              "\n",
              "    .dataframe tbody tr th {\n",
              "        vertical-align: top;\n",
              "    }\n",
              "\n",
              "    .dataframe thead th {\n",
              "        text-align: right;\n",
              "    }\n",
              "</style>\n",
              "<table border=\"1\" class=\"dataframe\">\n",
              "  <thead>\n",
              "    <tr style=\"text-align: right;\">\n",
              "      <th></th>\n",
              "      <th>market_id</th>\n",
              "      <th>order_protocol</th>\n",
              "      <th>total_items</th>\n",
              "      <th>subtotal</th>\n",
              "      <th>num_distinct_items</th>\n",
              "      <th>min_item_price</th>\n",
              "      <th>max_item_price</th>\n",
              "      <th>total_onshift_partners</th>\n",
              "      <th>total_busy_partners</th>\n",
              "      <th>total_outstanding_orders</th>\n",
              "      <th>time_taken</th>\n",
              "      <th>order_hour</th>\n",
              "      <th>order_day_of_week</th>\n",
              "      <th>order_month</th>\n",
              "      <th>order_year</th>\n",
              "      <th>store_cat_encoded</th>\n",
              "    </tr>\n",
              "  </thead>\n",
              "  <tbody>\n",
              "    <tr>\n",
              "      <th>0</th>\n",
              "      <td>1.0</td>\n",
              "      <td>1.0</td>\n",
              "      <td>4</td>\n",
              "      <td>3441</td>\n",
              "      <td>4</td>\n",
              "      <td>557</td>\n",
              "      <td>1239</td>\n",
              "      <td>33.0</td>\n",
              "      <td>14.0</td>\n",
              "      <td>21.0</td>\n",
              "      <td>62.98</td>\n",
              "      <td>22</td>\n",
              "      <td>4</td>\n",
              "      <td>2</td>\n",
              "      <td>2015</td>\n",
              "      <td>9.09</td>\n",
              "    </tr>\n",
              "    <tr>\n",
              "      <th>1</th>\n",
              "      <td>2.0</td>\n",
              "      <td>2.0</td>\n",
              "      <td>1</td>\n",
              "      <td>1900</td>\n",
              "      <td>1</td>\n",
              "      <td>1400</td>\n",
              "      <td>1400</td>\n",
              "      <td>1.0</td>\n",
              "      <td>2.0</td>\n",
              "      <td>2.0</td>\n",
              "      <td>67.07</td>\n",
              "      <td>21</td>\n",
              "      <td>1</td>\n",
              "      <td>2</td>\n",
              "      <td>2015</td>\n",
              "      <td>8.51</td>\n",
              "    </tr>\n",
              "    <tr>\n",
              "      <th>2</th>\n",
              "      <td>3.0</td>\n",
              "      <td>1.0</td>\n",
              "      <td>1</td>\n",
              "      <td>1900</td>\n",
              "      <td>1</td>\n",
              "      <td>1900</td>\n",
              "      <td>1900</td>\n",
              "      <td>1.0</td>\n",
              "      <td>0.0</td>\n",
              "      <td>0.0</td>\n",
              "      <td>29.68</td>\n",
              "      <td>20</td>\n",
              "      <td>3</td>\n",
              "      <td>1</td>\n",
              "      <td>2015</td>\n",
              "      <td>8.11</td>\n",
              "    </tr>\n",
              "    <tr>\n",
              "      <th>3</th>\n",
              "      <td>3.0</td>\n",
              "      <td>1.0</td>\n",
              "      <td>6</td>\n",
              "      <td>6900</td>\n",
              "      <td>5</td>\n",
              "      <td>600</td>\n",
              "      <td>1800</td>\n",
              "      <td>1.0</td>\n",
              "      <td>1.0</td>\n",
              "      <td>2.0</td>\n",
              "      <td>51.25</td>\n",
              "      <td>21</td>\n",
              "      <td>1</td>\n",
              "      <td>2</td>\n",
              "      <td>2015</td>\n",
              "      <td>8.11</td>\n",
              "    </tr>\n",
              "    <tr>\n",
              "      <th>4</th>\n",
              "      <td>3.0</td>\n",
              "      <td>1.0</td>\n",
              "      <td>3</td>\n",
              "      <td>3900</td>\n",
              "      <td>3</td>\n",
              "      <td>1100</td>\n",
              "      <td>1600</td>\n",
              "      <td>6.0</td>\n",
              "      <td>6.0</td>\n",
              "      <td>9.0</td>\n",
              "      <td>39.83</td>\n",
              "      <td>2</td>\n",
              "      <td>6</td>\n",
              "      <td>2</td>\n",
              "      <td>2015</td>\n",
              "      <td>8.11</td>\n",
              "    </tr>\n",
              "    <tr>\n",
              "      <th>5</th>\n",
              "      <td>3.0</td>\n",
              "      <td>1.0</td>\n",
              "      <td>3</td>\n",
              "      <td>5000</td>\n",
              "      <td>3</td>\n",
              "      <td>1500</td>\n",
              "      <td>1900</td>\n",
              "      <td>2.0</td>\n",
              "      <td>2.0</td>\n",
              "      <td>2.0</td>\n",
              "      <td>38.33</td>\n",
              "      <td>20</td>\n",
              "      <td>2</td>\n",
              "      <td>1</td>\n",
              "      <td>2015</td>\n",
              "      <td>8.11</td>\n",
              "    </tr>\n",
              "    <tr>\n",
              "      <th>6</th>\n",
              "      <td>3.0</td>\n",
              "      <td>1.0</td>\n",
              "      <td>2</td>\n",
              "      <td>3900</td>\n",
              "      <td>2</td>\n",
              "      <td>1200</td>\n",
              "      <td>2700</td>\n",
              "      <td>10.0</td>\n",
              "      <td>9.0</td>\n",
              "      <td>9.0</td>\n",
              "      <td>26.40</td>\n",
              "      <td>2</td>\n",
              "      <td>5</td>\n",
              "      <td>1</td>\n",
              "      <td>2015</td>\n",
              "      <td>8.11</td>\n",
              "    </tr>\n",
              "    <tr>\n",
              "      <th>7</th>\n",
              "      <td>3.0</td>\n",
              "      <td>1.0</td>\n",
              "      <td>4</td>\n",
              "      <td>4850</td>\n",
              "      <td>4</td>\n",
              "      <td>750</td>\n",
              "      <td>1800</td>\n",
              "      <td>7.0</td>\n",
              "      <td>8.0</td>\n",
              "      <td>7.0</td>\n",
              "      <td>32.75</td>\n",
              "      <td>3</td>\n",
              "      <td>3</td>\n",
              "      <td>2</td>\n",
              "      <td>2015</td>\n",
              "      <td>8.11</td>\n",
              "    </tr>\n",
              "    <tr>\n",
              "      <th>8</th>\n",
              "      <td>2.0</td>\n",
              "      <td>3.0</td>\n",
              "      <td>4</td>\n",
              "      <td>4771</td>\n",
              "      <td>3</td>\n",
              "      <td>820</td>\n",
              "      <td>1604</td>\n",
              "      <td>8.0</td>\n",
              "      <td>6.0</td>\n",
              "      <td>18.0</td>\n",
              "      <td>26.43</td>\n",
              "      <td>0</td>\n",
              "      <td>0</td>\n",
              "      <td>2</td>\n",
              "      <td>2015</td>\n",
              "      <td>6.43</td>\n",
              "    </tr>\n",
              "    <tr>\n",
              "      <th>9</th>\n",
              "      <td>3.0</td>\n",
              "      <td>1.0</td>\n",
              "      <td>2</td>\n",
              "      <td>2100</td>\n",
              "      <td>2</td>\n",
              "      <td>700</td>\n",
              "      <td>1200</td>\n",
              "      <td>2.0</td>\n",
              "      <td>2.0</td>\n",
              "      <td>2.0</td>\n",
              "      <td>53.20</td>\n",
              "      <td>1</td>\n",
              "      <td>2</td>\n",
              "      <td>2</td>\n",
              "      <td>2015</td>\n",
              "      <td>8.11</td>\n",
              "    </tr>\n",
              "  </tbody>\n",
              "</table>\n",
              "</div>\n",
              "    <div class=\"colab-df-buttons\">\n",
              "\n",
              "  <div class=\"colab-df-container\">\n",
              "    <button class=\"colab-df-convert\" onclick=\"convertToInteractive('df-93442263-78e6-40c7-8f56-b62b02510e34')\"\n",
              "            title=\"Convert this dataframe to an interactive table.\"\n",
              "            style=\"display:none;\">\n",
              "\n",
              "  <svg xmlns=\"http://www.w3.org/2000/svg\" height=\"24px\" viewBox=\"0 -960 960 960\">\n",
              "    <path d=\"M120-120v-720h720v720H120Zm60-500h600v-160H180v160Zm220 220h160v-160H400v160Zm0 220h160v-160H400v160ZM180-400h160v-160H180v160Zm440 0h160v-160H620v160ZM180-180h160v-160H180v160Zm440 0h160v-160H620v160Z\"/>\n",
              "  </svg>\n",
              "    </button>\n",
              "\n",
              "  <style>\n",
              "    .colab-df-container {\n",
              "      display:flex;\n",
              "      gap: 12px;\n",
              "    }\n",
              "\n",
              "    .colab-df-convert {\n",
              "      background-color: #E8F0FE;\n",
              "      border: none;\n",
              "      border-radius: 50%;\n",
              "      cursor: pointer;\n",
              "      display: none;\n",
              "      fill: #1967D2;\n",
              "      height: 32px;\n",
              "      padding: 0 0 0 0;\n",
              "      width: 32px;\n",
              "    }\n",
              "\n",
              "    .colab-df-convert:hover {\n",
              "      background-color: #E2EBFA;\n",
              "      box-shadow: 0px 1px 2px rgba(60, 64, 67, 0.3), 0px 1px 3px 1px rgba(60, 64, 67, 0.15);\n",
              "      fill: #174EA6;\n",
              "    }\n",
              "\n",
              "    .colab-df-buttons div {\n",
              "      margin-bottom: 4px;\n",
              "    }\n",
              "\n",
              "    [theme=dark] .colab-df-convert {\n",
              "      background-color: #3B4455;\n",
              "      fill: #D2E3FC;\n",
              "    }\n",
              "\n",
              "    [theme=dark] .colab-df-convert:hover {\n",
              "      background-color: #434B5C;\n",
              "      box-shadow: 0px 1px 3px 1px rgba(0, 0, 0, 0.15);\n",
              "      filter: drop-shadow(0px 1px 2px rgba(0, 0, 0, 0.3));\n",
              "      fill: #FFFFFF;\n",
              "    }\n",
              "  </style>\n",
              "\n",
              "    <script>\n",
              "      const buttonEl =\n",
              "        document.querySelector('#df-93442263-78e6-40c7-8f56-b62b02510e34 button.colab-df-convert');\n",
              "      buttonEl.style.display =\n",
              "        google.colab.kernel.accessAllowed ? 'block' : 'none';\n",
              "\n",
              "      async function convertToInteractive(key) {\n",
              "        const element = document.querySelector('#df-93442263-78e6-40c7-8f56-b62b02510e34');\n",
              "        const dataTable =\n",
              "          await google.colab.kernel.invokeFunction('convertToInteractive',\n",
              "                                                    [key], {});\n",
              "        if (!dataTable) return;\n",
              "\n",
              "        const docLinkHtml = 'Like what you see? Visit the ' +\n",
              "          '<a target=\"_blank\" href=https://colab.research.google.com/notebooks/data_table.ipynb>data table notebook</a>'\n",
              "          + ' to learn more about interactive tables.';\n",
              "        element.innerHTML = '';\n",
              "        dataTable['output_type'] = 'display_data';\n",
              "        await google.colab.output.renderOutput(dataTable, element);\n",
              "        const docLink = document.createElement('div');\n",
              "        docLink.innerHTML = docLinkHtml;\n",
              "        element.appendChild(docLink);\n",
              "      }\n",
              "    </script>\n",
              "  </div>\n",
              "\n",
              "\n",
              "<div id=\"df-73b776b5-5b8a-4f08-974e-094ee16d3da3\">\n",
              "  <button class=\"colab-df-quickchart\" onclick=\"quickchart('df-73b776b5-5b8a-4f08-974e-094ee16d3da3')\"\n",
              "            title=\"Suggest charts\"\n",
              "            style=\"display:none;\">\n",
              "\n",
              "<svg xmlns=\"http://www.w3.org/2000/svg\" height=\"24px\"viewBox=\"0 0 24 24\"\n",
              "     width=\"24px\">\n",
              "    <g>\n",
              "        <path d=\"M19 3H5c-1.1 0-2 .9-2 2v14c0 1.1.9 2 2 2h14c1.1 0 2-.9 2-2V5c0-1.1-.9-2-2-2zM9 17H7v-7h2v7zm4 0h-2V7h2v10zm4 0h-2v-4h2v4z\"/>\n",
              "    </g>\n",
              "</svg>\n",
              "  </button>\n",
              "\n",
              "<style>\n",
              "  .colab-df-quickchart {\n",
              "      --bg-color: #E8F0FE;\n",
              "      --fill-color: #1967D2;\n",
              "      --hover-bg-color: #E2EBFA;\n",
              "      --hover-fill-color: #174EA6;\n",
              "      --disabled-fill-color: #AAA;\n",
              "      --disabled-bg-color: #DDD;\n",
              "  }\n",
              "\n",
              "  [theme=dark] .colab-df-quickchart {\n",
              "      --bg-color: #3B4455;\n",
              "      --fill-color: #D2E3FC;\n",
              "      --hover-bg-color: #434B5C;\n",
              "      --hover-fill-color: #FFFFFF;\n",
              "      --disabled-bg-color: #3B4455;\n",
              "      --disabled-fill-color: #666;\n",
              "  }\n",
              "\n",
              "  .colab-df-quickchart {\n",
              "    background-color: var(--bg-color);\n",
              "    border: none;\n",
              "    border-radius: 50%;\n",
              "    cursor: pointer;\n",
              "    display: none;\n",
              "    fill: var(--fill-color);\n",
              "    height: 32px;\n",
              "    padding: 0;\n",
              "    width: 32px;\n",
              "  }\n",
              "\n",
              "  .colab-df-quickchart:hover {\n",
              "    background-color: var(--hover-bg-color);\n",
              "    box-shadow: 0 1px 2px rgba(60, 64, 67, 0.3), 0 1px 3px 1px rgba(60, 64, 67, 0.15);\n",
              "    fill: var(--button-hover-fill-color);\n",
              "  }\n",
              "\n",
              "  .colab-df-quickchart-complete:disabled,\n",
              "  .colab-df-quickchart-complete:disabled:hover {\n",
              "    background-color: var(--disabled-bg-color);\n",
              "    fill: var(--disabled-fill-color);\n",
              "    box-shadow: none;\n",
              "  }\n",
              "\n",
              "  .colab-df-spinner {\n",
              "    border: 2px solid var(--fill-color);\n",
              "    border-color: transparent;\n",
              "    border-bottom-color: var(--fill-color);\n",
              "    animation:\n",
              "      spin 1s steps(1) infinite;\n",
              "  }\n",
              "\n",
              "  @keyframes spin {\n",
              "    0% {\n",
              "      border-color: transparent;\n",
              "      border-bottom-color: var(--fill-color);\n",
              "      border-left-color: var(--fill-color);\n",
              "    }\n",
              "    20% {\n",
              "      border-color: transparent;\n",
              "      border-left-color: var(--fill-color);\n",
              "      border-top-color: var(--fill-color);\n",
              "    }\n",
              "    30% {\n",
              "      border-color: transparent;\n",
              "      border-left-color: var(--fill-color);\n",
              "      border-top-color: var(--fill-color);\n",
              "      border-right-color: var(--fill-color);\n",
              "    }\n",
              "    40% {\n",
              "      border-color: transparent;\n",
              "      border-right-color: var(--fill-color);\n",
              "      border-top-color: var(--fill-color);\n",
              "    }\n",
              "    60% {\n",
              "      border-color: transparent;\n",
              "      border-right-color: var(--fill-color);\n",
              "    }\n",
              "    80% {\n",
              "      border-color: transparent;\n",
              "      border-right-color: var(--fill-color);\n",
              "      border-bottom-color: var(--fill-color);\n",
              "    }\n",
              "    90% {\n",
              "      border-color: transparent;\n",
              "      border-bottom-color: var(--fill-color);\n",
              "    }\n",
              "  }\n",
              "</style>\n",
              "\n",
              "  <script>\n",
              "    async function quickchart(key) {\n",
              "      const quickchartButtonEl =\n",
              "        document.querySelector('#' + key + ' button');\n",
              "      quickchartButtonEl.disabled = true;  // To prevent multiple clicks.\n",
              "      quickchartButtonEl.classList.add('colab-df-spinner');\n",
              "      try {\n",
              "        const charts = await google.colab.kernel.invokeFunction(\n",
              "            'suggestCharts', [key], {});\n",
              "      } catch (error) {\n",
              "        console.error('Error during call to suggestCharts:', error);\n",
              "      }\n",
              "      quickchartButtonEl.classList.remove('colab-df-spinner');\n",
              "      quickchartButtonEl.classList.add('colab-df-quickchart-complete');\n",
              "    }\n",
              "    (() => {\n",
              "      let quickchartButtonEl =\n",
              "        document.querySelector('#df-73b776b5-5b8a-4f08-974e-094ee16d3da3 button');\n",
              "      quickchartButtonEl.style.display =\n",
              "        google.colab.kernel.accessAllowed ? 'block' : 'none';\n",
              "    })();\n",
              "  </script>\n",
              "</div>\n",
              "\n",
              "    </div>\n",
              "  </div>\n"
            ],
            "application/vnd.google.colaboratory.intrinsic+json": {
              "type": "dataframe",
              "variable_name": "df2"
            }
          },
          "metadata": {},
          "execution_count": 307
        }
      ]
    },
    {
      "cell_type": "markdown",
      "source": [
        "# Fill null values"
      ],
      "metadata": {
        "id": "P1BjsDvwui8F"
      }
    },
    {
      "cell_type": "code",
      "source": [
        "no_partners = df[df['total_onshift_partners'] == 0]"
      ],
      "metadata": {
        "id": "Mcc_ZqJ4XRrx"
      },
      "execution_count": null,
      "outputs": []
    },
    {
      "cell_type": "code",
      "source": [
        "import matplotlib.pyplot as plt\n",
        "import seaborn as sns"
      ],
      "metadata": {
        "id": "wACt-lBoW4XF"
      },
      "execution_count": null,
      "outputs": []
    },
    {
      "cell_type": "code",
      "source": [
        "no_partners = df[df['total_onshift_partners'] == 0]\n",
        "sns.histplot(x = 'order_hour', data = no_partners, bins = 12)"
      ],
      "metadata": {
        "colab": {
          "base_uri": "https://localhost:8080/",
          "height": 468
        },
        "id": "y0DUBbGBW9u-",
        "outputId": "fa991638-b493-4710-c1a3-ce1f51c837d3"
      },
      "execution_count": null,
      "outputs": [
        {
          "output_type": "execute_result",
          "data": {
            "text/plain": [
              "<Axes: xlabel='order_hour', ylabel='Count'>"
            ]
          },
          "metadata": {},
          "execution_count": 19
        },
        {
          "output_type": "display_data",
          "data": {
            "text/plain": [
              "<Figure size 640x480 with 1 Axes>"
            ],
            "image/png": "[encoded data removed]"
          },
          "metadata": {}
        }
      ]
    },
    {
      "cell_type": "code",
      "source": [
        "no_market = df2[df2['market_id'].isna()]\n",
        "sns.histplot(x = 'order_hour', data = no_partners, bins = 12)"
      ],
      "metadata": {
        "colab": {
          "base_uri": "https://localhost:8080/",
          "height": 468
        },
        "id": "wPiNxtPKL99x",
        "outputId": "edb739d0-3e47-42cf-d7e7-044908c9d822"
      },
      "execution_count": null,
      "outputs": [
        {
          "output_type": "execute_result",
          "data": {
            "text/plain": [
              "<Axes: xlabel='order_hour', ylabel='Count'>"
            ]
          },
          "metadata": {},
          "execution_count": 21
        },
        {
          "output_type": "display_data",
          "data": {
            "text/plain": [
              "<Figure size 640x480 with 1 Axes>"
            ],
            "image/png": "[encoded data removed]"
          },
          "metadata": {}
        }
      ]
    },
    {
      "cell_type": "code",
      "source": [
        "no_protocol = df2[df2['order_protocol'].isna()]\n",
        "sns.histplot(x = 'order_hour', data = no_partners, bins = 12)"
      ],
      "metadata": {
        "colab": {
          "base_uri": "https://localhost:8080/",
          "height": 468
        },
        "id": "UmdcOkqQMcS1",
        "outputId": "f09372a8-0d9b-4d71-f00d-853cccc4c158"
      },
      "execution_count": null,
      "outputs": [
        {
          "output_type": "execute_result",
          "data": {
            "text/plain": [
              "<Axes: xlabel='order_hour', ylabel='Count'>"
            ]
          },
          "metadata": {},
          "execution_count": 23
        },
        {
          "output_type": "display_data",
          "data": {
            "text/plain": [
              "<Figure size 640x480 with 1 Axes>"
            ],
            "image/png": "[encoded data removed]"
          },
          "metadata": {}
        }
      ]
    },
    {
      "cell_type": "markdown",
      "source": [
        "as per above data most of the missing information is between time 0 to 4 am. so lets fill missing with mode from that section."
      ],
      "metadata": {
        "id": "wYdG5Tnz3nfS"
      }
    },
    {
      "cell_type": "code",
      "source": [
        "null_partners = df[df['total_onshift_partners'].isna()]"
      ],
      "metadata": {
        "id": "L1H03ln2YD3M"
      },
      "execution_count": null,
      "outputs": []
    },
    {
      "cell_type": "code",
      "source": [
        "sns.histplot(x = 'order_hour', data = null_partners, bins = 12)"
      ],
      "metadata": {
        "colab": {
          "base_uri": "https://localhost:8080/",
          "height": 470
        },
        "id": "9TCIdPb4YIeK",
        "outputId": "8cb61682-7c26-46a4-dfa9-36d158a4347c"
      },
      "execution_count": null,
      "outputs": [
        {
          "output_type": "execute_result",
          "data": {
            "text/plain": [
              "<Axes: xlabel='order_hour', ylabel='Count'>"
            ]
          },
          "metadata": {},
          "execution_count": 69
        },
        {
          "output_type": "display_data",
          "data": {
            "text/plain": [
              "<Figure size 640x480 with 1 Axes>"
            ],
            "image/png": "[encoded data removed]"
          },
          "metadata": {}
        }
      ]
    },
    {
      "cell_type": "code",
      "source": [
        "def mode_impute(series):\n",
        "    mode_value = series.mode()\n",
        "    return mode_value[0] if not mode_value.empty else None  # Get first mode if multiple\n",
        "\n",
        "# Compute mode of 'market_id' for each 'order_hr'\n",
        "mode_per_hour = df2.groupby('order_hour')['market_id'].transform(mode_impute)\n",
        "\n",
        "# Fill NaN values in 'market_id' with corresponding mode\n",
        "df2['market_id'].fillna(mode_per_hour, inplace=True)\n",
        "\n",
        "\n",
        "\n",
        "def mode_impute(series):\n",
        "    mode_value = series.mode()\n",
        "    return mode_value[0] if not mode_value.empty else None  # Get first mode if multiple\n",
        "\n",
        "# Compute mode of 'market_id' for each 'order_hr'\n",
        "mode_per_hour = df2.groupby('order_hour')['order_protocol'].transform(mode_impute)\n",
        "\n",
        "# Fill NaN values in 'market_id' with corresponding mode\n",
        "df2['order_protocol'].fillna(mode_per_hour, inplace=True)\n"
      ],
      "metadata": {
        "colab": {
          "base_uri": "https://localhost:8080/"
        },
        "id": "-XYpAn2Qkbf7",
        "outputId": "9c88f085-9349-4330-fa8a-ad1c6b06c420"
      },
      "execution_count": null,
      "outputs": [
        {
          "output_type": "stream",
          "name": "stderr",
          "text": [
            "<ipython-input-24-340627ae5ae3>:9: FutureWarning: A value is trying to be set on a copy of a DataFrame or Series through chained assignment using an inplace method.\n",
            "The behavior will change in pandas 3.0. This inplace method will never work because the intermediate object on which we are setting values always behaves as a copy.\n",
            "\n",
            "For example, when doing 'df[col].method(value, inplace=True)', try using 'df.method({col: value}, inplace=True)' or df[col] = df[col].method(value) instead, to perform the operation inplace on the original object.\n",
            "\n",
            "\n",
            "  df2['market_id'].fillna(mode_per_hour, inplace=True)\n",
            "<ipython-input-24-340627ae5ae3>:21: FutureWarning: A value is trying to be set on a copy of a DataFrame or Series through chained assignment using an inplace method.\n",
            "The behavior will change in pandas 3.0. This inplace method will never work because the intermediate object on which we are setting values always behaves as a copy.\n",
            "\n",
            "For example, when doing 'df[col].method(value, inplace=True)', try using 'df.method({col: value}, inplace=True)' or df[col] = df[col].method(value) instead, to perform the operation inplace on the original object.\n",
            "\n",
            "\n",
            "  df2['order_protocol'].fillna(mode_per_hour, inplace=True)\n"
          ]
        }
      ]
    },
    {
      "cell_type": "code",
      "source": [
        "def mode_impute(series):\n",
        "    mode_value = series.mode()\n",
        "    return mode_value[0] if not mode_value.empty else None  # Get first mode if multiple\n",
        "\n",
        "# Compute mode of 'market_id' for each 'order_hr'\n",
        "mode_onshift = df2.groupby(['market_id','order_hour'])['total_onshift_partners'].transform(mode_impute)\n",
        "mode_busy = df2.groupby(['market_id','order_hour'])['total_busy_partners'].transform(mode_impute)\n",
        "mode_outstanding = df2.groupby(['market_id','order_hour'])['total_outstanding_orders'].transform(mode_impute)\n",
        "\n",
        "\n",
        "df2['total_outstanding_orders'].fillna(mode_outstanding, inplace=True)\n",
        "df2['total_busy_partners'].fillna(mode_busy, inplace=True)\n",
        "df2['total_onshift_partners'].fillna(mode_onshift, inplace=True)"
      ],
      "metadata": {
        "colab": {
          "base_uri": "https://localhost:8080/"
        },
        "id": "p5qoFuH8kv_U",
        "outputId": "e6c9c4ab-0525-4c20-9014-79b1b114bb01"
      },
      "execution_count": null,
      "outputs": [
        {
          "output_type": "stream",
          "name": "stderr",
          "text": [
            "<ipython-input-25-1bd580b067ba>:11: FutureWarning: A value is trying to be set on a copy of a DataFrame or Series through chained assignment using an inplace method.\n",
            "The behavior will change in pandas 3.0. This inplace method will never work because the intermediate object on which we are setting values always behaves as a copy.\n",
            "\n",
            "For example, when doing 'df[col].method(value, inplace=True)', try using 'df.method({col: value}, inplace=True)' or df[col] = df[col].method(value) instead, to perform the operation inplace on the original object.\n",
            "\n",
            "\n",
            "  df2['total_outstanding_orders'].fillna(mode_outstanding, inplace=True)\n",
            "<ipython-input-25-1bd580b067ba>:12: FutureWarning: A value is trying to be set on a copy of a DataFrame or Series through chained assignment using an inplace method.\n",
            "The behavior will change in pandas 3.0. This inplace method will never work because the intermediate object on which we are setting values always behaves as a copy.\n",
            "\n",
            "For example, when doing 'df[col].method(value, inplace=True)', try using 'df.method({col: value}, inplace=True)' or df[col] = df[col].method(value) instead, to perform the operation inplace on the original object.\n",
            "\n",
            "\n",
            "  df2['total_busy_partners'].fillna(mode_busy, inplace=True)\n",
            "<ipython-input-25-1bd580b067ba>:13: FutureWarning: A value is trying to be set on a copy of a DataFrame or Series through chained assignment using an inplace method.\n",
            "The behavior will change in pandas 3.0. This inplace method will never work because the intermediate object on which we are setting values always behaves as a copy.\n",
            "\n",
            "For example, when doing 'df[col].method(value, inplace=True)', try using 'df.method({col: value}, inplace=True)' or df[col] = df[col].method(value) instead, to perform the operation inplace on the original object.\n",
            "\n",
            "\n",
            "  df2['total_onshift_partners'].fillna(mode_onshift, inplace=True)\n"
          ]
        }
      ]
    },
    {
      "cell_type": "markdown",
      "source": [
        "# Outlier detection and Removal\n",
        "Outliers can make model overfit, giving high accuracy in training but very low accouracy in actual test data as model fits every noisy point and does not follow the generalised pattern over the duration.\n",
        "\n",
        "Methods to remove\n",
        "1) IQR\n",
        "2) Iforest\n",
        "3) LOF/DBScan\n",
        "4) Standerd deviation"
      ],
      "metadata": {
        "id": "XsYkjDKWjUeP"
      }
    },
    {
      "cell_type": "code",
      "source": [
        "df2.dropna(inplace = True)"
      ],
      "metadata": {
        "id": "MuSAX4twIYj8"
      },
      "execution_count": null,
      "outputs": []
    },
    {
      "cell_type": "code",
      "source": [
        "len(df2)"
      ],
      "metadata": {
        "colab": {
          "base_uri": "https://localhost:8080/"
        },
        "id": "Qic6u16b46ph",
        "outputId": "545e4171-c72c-4fa0-d23e-6c69ab1ec96d"
      },
      "execution_count": null,
      "outputs": [
        {
          "output_type": "execute_result",
          "data": {
            "text/plain": [
              "197419"
            ]
          },
          "metadata": {},
          "execution_count": 30
        }
      ]
    },
    {
      "cell_type": "code",
      "source": [
        "sns.boxplot( x = 'time_taken', data = df2)"
      ],
      "metadata": {
        "colab": {
          "base_uri": "https://localhost:8080/",
          "height": 468
        },
        "id": "V0YXiGZT5Dfz",
        "outputId": "440769d0-cf21-49be-dd2b-822eb503b4b6"
      },
      "execution_count": null,
      "outputs": [
        {
          "output_type": "execute_result",
          "data": {
            "text/plain": [
              "<Axes: xlabel='time_taken'>"
            ]
          },
          "metadata": {},
          "execution_count": 32
        },
        {
          "output_type": "display_data",
          "data": {
            "text/plain": [
              "<Figure size 640x480 with 1 Axes>"
            ],
            "image/png": "[encoded data removed]"
          },
          "metadata": {}
        }
      ]
    },
    {
      "cell_type": "code",
      "source": [
        "sns.boxplot( x = 'total_items', data = df2)"
      ],
      "metadata": {
        "colab": {
          "base_uri": "https://localhost:8080/",
          "height": 468
        },
        "id": "b-wpS5ir6LzW",
        "outputId": "a0371e7c-ab98-4c1d-f821-f6e70c07d624"
      },
      "execution_count": null,
      "outputs": [
        {
          "output_type": "execute_result",
          "data": {
            "text/plain": [
              "<Axes: xlabel='total_items'>"
            ]
          },
          "metadata": {},
          "execution_count": 35
        },
        {
          "output_type": "display_data",
          "data": {
            "text/plain": [
              "<Figure size 640x480 with 1 Axes>"
            ],
            "image/png": "[encoded data removed]"
          },
          "metadata": {}
        }
      ]
    },
    {
      "cell_type": "code",
      "source": [
        "sns.boxplot( x = 'subtotal', data = df2)"
      ],
      "metadata": {
        "colab": {
          "base_uri": "https://localhost:8080/",
          "height": 467
        },
        "id": "L0AuZk4j7HN8",
        "outputId": "32878f50-4c25-403f-ebf4-798b71ab2c97"
      },
      "execution_count": null,
      "outputs": [
        {
          "output_type": "execute_result",
          "data": {
            "text/plain": [
              "<Axes: xlabel='subtotal'>"
            ]
          },
          "metadata": {},
          "execution_count": 36
        },
        {
          "output_type": "display_data",
          "data": {
            "text/plain": [
              "<Figure size 640x480 with 1 Axes>"
            ],
            "image/png": "[encoded data removed]"
          },
          "metadata": {}
        }
      ]
    },
    {
      "cell_type": "code",
      "source": [
        "sns.boxplot( x = 'num_distinct_items', data = df2)"
      ],
      "metadata": {
        "colab": {
          "base_uri": "https://localhost:8080/",
          "height": 468
        },
        "id": "jLzHjgL27SPN",
        "outputId": "71c9ec43-2099-453e-87c5-5a62c99fca88"
      },
      "execution_count": null,
      "outputs": [
        {
          "output_type": "execute_result",
          "data": {
            "text/plain": [
              "<Axes: xlabel='num_distinct_items'>"
            ]
          },
          "metadata": {},
          "execution_count": 37
        },
        {
          "output_type": "display_data",
          "data": {
            "text/plain": [
              "<Figure size 640x480 with 1 Axes>"
            ],
            "image/png": "[encoded data removed]"
          },
          "metadata": {}
        }
      ]
    },
    {
      "cell_type": "code",
      "source": [
        "df3 = df2.copy()\n",
        "def outlier_removal(df2,col):\n",
        "  q1 = df2[col].quantile(0.25)\n",
        "  q3 = df2[col].quantile(0.75)\n",
        "  iqr = q3 - q1\n",
        "  lower_limit = q1 - (1.75*iqr)\n",
        "  upper_limit = q3 + (1.75*iqr)\n",
        "  df2 = df2[(df2[col]> lower_limit) & (df2[col]< upper_limit)]\n",
        "  return df2"
      ],
      "metadata": {
        "id": "4l5ASlL1GBLG"
      },
      "execution_count": null,
      "outputs": []
    },
    {
      "cell_type": "code",
      "source": [
        "df4 = outlier_removal(df3,'time_taken')\n",
        "df5 = outlier_removal(df4,'total_items')"
      ],
      "metadata": {
        "id": "SmcJjnSTG6M_"
      },
      "execution_count": null,
      "outputs": []
    },
    {
      "cell_type": "code",
      "source": [
        "len(df5)"
      ],
      "metadata": {
        "colab": {
          "base_uri": "https://localhost:8080/"
        },
        "id": "6UqdWQr2G_qy",
        "outputId": "821aac8d-5710-46c6-89a0-e922d905049c"
      },
      "execution_count": null,
      "outputs": [
        {
          "output_type": "execute_result",
          "data": {
            "text/plain": [
              "183703"
            ]
          },
          "metadata": {},
          "execution_count": 141
        }
      ]
    },
    {
      "cell_type": "code",
      "source": [
        "sns.boxplot( x = 'total_items', data = df5)"
      ],
      "metadata": {
        "colab": {
          "base_uri": "https://localhost:8080/",
          "height": 468
        },
        "id": "EI8rQ5dzHn4E",
        "outputId": "fc503e1a-427e-40bb-c822-c4fa9ff24e8c"
      },
      "execution_count": null,
      "outputs": [
        {
          "output_type": "execute_result",
          "data": {
            "text/plain": [
              "<Axes: xlabel='total_items'>"
            ]
          },
          "metadata": {},
          "execution_count": 142
        },
        {
          "output_type": "display_data",
          "data": {
            "text/plain": [
              "<Figure size 640x480 with 1 Axes>"
            ],
            "image/png": "[encoded data removed]"
          },
          "metadata": {}
        }
      ]
    },
    {
      "cell_type": "code",
      "source": [
        "sns.boxplot( x = 'time_taken', data = df5)"
      ],
      "metadata": {
        "colab": {
          "base_uri": "https://localhost:8080/",
          "height": 468
        },
        "id": "UextiQ05HoED",
        "outputId": "fa4fc295-8a24-4713-942c-5dc147dc0e4e"
      },
      "execution_count": null,
      "outputs": [
        {
          "output_type": "execute_result",
          "data": {
            "text/plain": [
              "<Axes: xlabel='time_taken'>"
            ]
          },
          "metadata": {},
          "execution_count": 143
        },
        {
          "output_type": "display_data",
          "data": {
            "text/plain": [
              "<Figure size 640x480 with 1 Axes>"
            ],
            "image/png": "[encoded data removed]"
          },
          "metadata": {}
        }
      ]
    },
    {
      "cell_type": "markdown",
      "source": [
        "# Train test split"
      ],
      "metadata": {
        "id": "SrzR3oxRuYyX"
      }
    },
    {
      "cell_type": "code",
      "source": [
        "from sklearn.model_selection import train_test_split\n",
        "from sklearn.preprocessing import StandardScaler\n",
        "from sklearn.metrics import mean_squared_error, r2_score"
      ],
      "metadata": {
        "id": "Qlc3TkVzILDl"
      },
      "execution_count": null,
      "outputs": []
    },
    {
      "cell_type": "code",
      "source": [
        "x=df5.drop('time_taken',axis=1)\n",
        "y=df5['time_taken']\n",
        "x_train,x_test,y_train, y_test = train_test_split(x, y, test_size = 0.2, random_state = 42)\n"
      ],
      "metadata": {
        "id": "JDJzPAn9Irxn"
      },
      "execution_count": null,
      "outputs": []
    },
    {
      "cell_type": "markdown",
      "source": [
        "# Scale the data"
      ],
      "metadata": {
        "id": "you-kILkuEf8"
      }
    },
    {
      "cell_type": "code",
      "source": [
        "scaler = StandardScaler()\n",
        "x_train_scaled = scaler.fit_transform(x_train)\n",
        "x_test_scaled = scaler.transform(x_test)"
      ],
      "metadata": {
        "id": "EUXXlmfLJO5A"
      },
      "execution_count": null,
      "outputs": []
    },
    {
      "cell_type": "markdown",
      "source": [
        "# Build the Model"
      ],
      "metadata": {
        "id": "XEWXw0J2uIHT"
      }
    },
    {
      "cell_type": "code",
      "source": [
        "import tensorflow as tf\n",
        "from tensorflow import keras\n",
        "from tensorflow.keras import layers\n",
        "from sklearn.metrics import mean_absolute_error, mean_squared_error"
      ],
      "metadata": {
        "id": "-oh6lyeHMNz3"
      },
      "execution_count": null,
      "outputs": []
    },
    {
      "cell_type": "code",
      "source": [
        "!pip install keras_tuner"
      ],
      "metadata": {
        "colab": {
          "base_uri": "https://localhost:8080/"
        },
        "id": "Bxr-hNVTMR2V",
        "outputId": "e87d132b-f1a8-44e7-89ba-36271156693d"
      },
      "execution_count": null,
      "outputs": [
        {
          "output_type": "stream",
          "name": "stdout",
          "text": [
            "Collecting keras_tuner\n",
            "  Downloading keras_tuner-1.4.7-py3-none-any.whl.metadata (5.4 kB)\n",
            "Requirement already satisfied: keras in /usr/local/lib/python3.11/dist-packages (from keras_tuner) (3.8.0)\n",
            "Requirement already satisfied: packaging in /usr/local/lib/python3.11/dist-packages (from keras_tuner) (24.2)\n",
            "Requirement already satisfied: requests in /usr/local/lib/python3.11/dist-packages (from keras_tuner) (2.32.3)\n",
            "Collecting kt-legacy (from keras_tuner)\n",
            "  Downloading kt_legacy-1.0.5-py3-none-any.whl.metadata (221 bytes)\n",
            "Requirement already satisfied: absl-py in /usr/local/lib/python3.11/dist-packages (from keras->keras_tuner) (1.4.0)\n",
            "Requirement already satisfied: numpy in /usr/local/lib/python3.11/dist-packages (from keras->keras_tuner) (1.26.4)\n",
            "Requirement already satisfied: rich in /usr/local/lib/python3.11/dist-packages (from keras->keras_tuner) (13.9.4)\n",
            "Requirement already satisfied: namex in /usr/local/lib/python3.11/dist-packages (from keras->keras_tuner) (0.0.8)\n",
            "Requirement already satisfied: h5py in /usr/local/lib/python3.11/dist-packages (from keras->keras_tuner) (3.12.1)\n",
            "Requirement already satisfied: optree in /usr/local/lib/python3.11/dist-packages (from keras->keras_tuner) (0.14.1)\n",
            "Requirement already satisfied: ml-dtypes in /usr/local/lib/python3.11/dist-packages (from keras->keras_tuner) (0.4.1)\n",
            "Requirement already satisfied: charset-normalizer<4,>=2 in /usr/local/lib/python3.11/dist-packages (from requests->keras_tuner) (3.4.1)\n",
            "Requirement already satisfied: idna<4,>=2.5 in /usr/local/lib/python3.11/dist-packages (from requests->keras_tuner) (3.10)\n",
            "Requirement already satisfied: urllib3<3,>=1.21.1 in /usr/local/lib/python3.11/dist-packages (from requests->keras_tuner) (2.3.0)\n",
            "Requirement already satisfied: certifi>=2017.4.17 in /usr/local/lib/python3.11/dist-packages (from requests->keras_tuner) (2025.1.31)\n",
            "Requirement already satisfied: typing-extensions>=4.5.0 in /usr/local/lib/python3.11/dist-packages (from optree->keras->keras_tuner) (4.12.2)\n",
            "Requirement already satisfied: markdown-it-py>=2.2.0 in /usr/local/lib/python3.11/dist-packages (from rich->keras->keras_tuner) (3.0.0)\n",
            "Requirement already satisfied: pygments<3.0.0,>=2.13.0 in /usr/local/lib/python3.11/dist-packages (from rich->keras->keras_tuner) (2.18.0)\n",
            "Requirement already satisfied: mdurl~=0.1 in /usr/local/lib/python3.11/dist-packages (from markdown-it-py>=2.2.0->rich->keras->keras_tuner) (0.1.2)\n",
            "Downloading keras_tuner-1.4.7-py3-none-any.whl (129 kB)\n",
            "\u001b[2K   \u001b[90m━━━━━━━━━━━━━━━━━━━━━━━━━━━━━━━━━━━━━━━━\u001b[0m \u001b[32m129.1/129.1 kB\u001b[0m \u001b[31m5.6 MB/s\u001b[0m eta \u001b[36m0:00:00\u001b[0m\n",
            "\u001b[?25hDownloading kt_legacy-1.0.5-py3-none-any.whl (9.6 kB)\n",
            "Installing collected packages: kt-legacy, keras_tuner\n",
            "Successfully installed keras_tuner-1.4.7 kt-legacy-1.0.5\n"
          ]
        }
      ]
    },
    {
      "cell_type": "code",
      "source": [
        "import keras_tuner as kt"
      ],
      "metadata": {
        "id": "1iKjEcR4MkLf"
      },
      "execution_count": null,
      "outputs": []
    },
    {
      "cell_type": "code",
      "source": [],
      "metadata": {
        "id": "hcX-JP-EP7dJ"
      },
      "execution_count": null,
      "outputs": []
    },
    {
      "cell_type": "code",
      "source": [
        "from tensorflow.keras.callbacks import EarlyStopping\n",
        "from tensorflow.keras.layers import BatchNormalization\n",
        "from tensorflow.keras.layers import Activation\n",
        "from tensorflow.keras.activations import relu\n",
        "from tensorflow.keras.layers import Dropout\n",
        "from tensorflow.keras import layers, regularizers"
      ],
      "metadata": {
        "id": "jFepy8kVP4mw"
      },
      "execution_count": null,
      "outputs": []
    },
    {
      "cell_type": "code",
      "source": [
        "def build_model(hp):\n",
        "    model = keras.Sequential()\n",
        "\n",
        "    # First Dense Layer\n",
        "    model.add(layers.Dense(hp.Int('units_1', min_value=32, max_value=128, step=32),\n",
        "                           activation='relu',\n",
        "                           input_shape=(x_train_scaled.shape[1],)))\n",
        "    model.add(BatchNormalization())\n",
        "    model.add(layers.Dropout(hp.Choice('dropout_1', [0.1, 0.2])))\n",
        "\n",
        "    # Second Dense Layer\n",
        "    model.add(layers.Dense(hp.Int('units_2', min_value=16, max_value=64, step=16),\n",
        "                           activation='relu',\n",
        "                           kernel_regularizer=regularizers.l2(hp.Choice('l2_1', [0.0001, 0.001]))))\n",
        "    model.add(BatchNormalization())\n",
        "    model.add(layers.Dropout(hp.Choice('dropout_2', [0.1, 0.2])))\n",
        "\n",
        "    # Third Dense Layer\n",
        "    model.add(layers.Dense(hp.Int('units_3', min_value=8, max_value=16, step=8),\n",
        "                           activation='relu',\n",
        "                           kernel_regularizer=regularizers.l2(hp.Choice('l2_2', [0.0001, 0.001]))))  # Fixed l2 key\n",
        "    model.add(BatchNormalization())\n",
        "\n",
        "    # Output Layer\n",
        "    model.add(layers.Dense(1))\n",
        "\n",
        "    # Compile Model\n",
        "    model.compile(optimizer=keras.optimizers.Adam(learning_rate=hp.Choice('learning_rate', [0.01, 0.001])),\n",
        "                  loss='mse',\n",
        "                  metrics=['mae'])  # Fixed incorrect accuracy metric\n",
        "\n",
        "    return model\n",
        "\n",
        "# Hyperparameter search\n",
        "tuner = kt.RandomSearch(build_model, objective='val_mae', max_trials=5, executions_per_trial=1)  # Fixed objective\n",
        "tuner.search(x_train_scaled, y_train, validation_data=(x_test_scaled, y_test), epochs=10, batch_size=32)\n",
        "\n",
        "# Get best hyperparameters\n",
        "best_hps = tuner.get_best_hyperparameters(num_trials=1)[0]\n",
        "\n",
        "# Train final model with best hyperparameters\n",
        "best_model = tuner.hypermodel.build(best_hps)\n",
        "\n",
        "early_stop = keras.callbacks.EarlyStopping(\n",
        "    monitor='val_loss',\n",
        "    patience=5,\n",
        "    restore_best_weights=True,\n",
        "    min_delta=0.001  # Stop if the improvement in loss is less than 0.001\n",
        ")\n",
        "\n",
        "history = best_model.fit(x_train_scaled, y_train, validation_data=(x_test_scaled, y_test), epochs=10, batch_size=8, verbose=1, callbacks=[early_stop])\n",
        "\n",
        "# Plot loss\n",
        "plt.plot(history.history['loss'], label='train_loss')\n",
        "plt.plot(history.history['val_loss'], label='val_loss')\n",
        "plt.xlabel('Epochs')\n",
        "plt.ylabel('Loss')\n",
        "plt.legend()\n",
        "plt.show()\n",
        "\n",
        "# Evaluate model\n",
        "y_pred = best_model.predict(x_test_scaled)\n",
        "mse = mean_squared_error(y_test, y_pred)\n",
        "rmse = np.sqrt(mse)\n",
        "mae = mean_absolute_error(y_test, y_pred)\n",
        "\n",
        "print(f'MSE: {mse}')\n",
        "print(f'RMSE: {rmse}')\n",
        "print(f'MAE: {mae}')\n"
      ],
      "metadata": {
        "colab": {
          "base_uri": "https://localhost:8080/",
          "height": 1000
        },
        "id": "kOlEYC32NX89",
        "outputId": "fc92323f-ec88-4b37-dae1-740f998ac451"
      },
      "execution_count": null,
      "outputs": [
        {
          "output_type": "stream",
          "name": "stdout",
          "text": [
            "Trial 5 Complete [00h 03m 30s]\n",
            "val_mae: 10.38364028930664\n",
            "\n",
            "Best val_mae So Far: 0.0\n",
            "Total elapsed time: 00h 34m 30s\n",
            "Epoch 1/10\n"
          ]
        },
        {
          "output_type": "stream",
          "name": "stderr",
          "text": [
            "/usr/local/lib/python3.11/dist-packages/keras/src/layers/core/dense.py:87: UserWarning: Do not pass an `input_shape`/`input_dim` argument to a layer. When using Sequential models, prefer using an `Input(shape)` object as the first layer in the model instead.\n",
            "  super().__init__(activity_regularizer=activity_regularizer, **kwargs)\n"
          ]
        },
        {
          "output_type": "stream",
          "name": "stdout",
          "text": [
            "\u001b[1m18371/18371\u001b[0m \u001b[32m━━━━━━━━━━━━━━━━━━━━\u001b[0m\u001b[37m\u001b[0m \u001b[1m64s\u001b[0m 3ms/step - loss: 1495.8258 - mae: 33.8618 - val_loss: 195.0798 - val_mae: 11.0520\n",
            "Epoch 2/10\n",
            "\u001b[1m18371/18371\u001b[0m \u001b[32m━━━━━━━━━━━━━━━━━━━━\u001b[0m\u001b[37m\u001b[0m \u001b[1m82s\u001b[0m 3ms/step - loss: 207.9467 - mae: 11.3916 - val_loss: 188.5432 - val_mae: 10.8939\n",
            "Epoch 3/10\n",
            "\u001b[1m18371/18371\u001b[0m \u001b[32m━━━━━━━━━━━━━━━━━━━━\u001b[0m\u001b[37m\u001b[0m \u001b[1m63s\u001b[0m 3ms/step - loss: 201.9798 - mae: 11.2183 - val_loss: 185.0425 - val_mae: 10.7260\n",
            "Epoch 4/10\n",
            "\u001b[1m18371/18371\u001b[0m \u001b[32m━━━━━━━━━━━━━━━━━━━━\u001b[0m\u001b[37m\u001b[0m \u001b[1m82s\u001b[0m 3ms/step - loss: 199.1162 - mae: 11.1559 - val_loss: 182.2159 - val_mae: 10.6438\n",
            "Epoch 5/10\n",
            "\u001b[1m18371/18371\u001b[0m \u001b[32m━━━━━━━━━━━━━━━━━━━━\u001b[0m\u001b[37m\u001b[0m \u001b[1m83s\u001b[0m 4ms/step - loss: 198.1319 - mae: 11.1309 - val_loss: 180.5455 - val_mae: 10.6320\n",
            "Epoch 6/10\n",
            "\u001b[1m18371/18371\u001b[0m \u001b[32m━━━━━━━━━━━━━━━━━━━━\u001b[0m\u001b[37m\u001b[0m \u001b[1m61s\u001b[0m 3ms/step - loss: 194.9873 - mae: 11.0198 - val_loss: 180.6626 - val_mae: 10.6112\n",
            "Epoch 7/10\n",
            "\u001b[1m18371/18371\u001b[0m \u001b[32m━━━━━━━━━━━━━━━━━━━━\u001b[0m\u001b[37m\u001b[0m \u001b[1m85s\u001b[0m 4ms/step - loss: 195.0182 - mae: 11.0167 - val_loss: 178.9582 - val_mae: 10.5105\n",
            "Epoch 8/10\n",
            "\u001b[1m18371/18371\u001b[0m \u001b[32m━━━━━━━━━━━━━━━━━━━━\u001b[0m\u001b[37m\u001b[0m \u001b[1m62s\u001b[0m 3ms/step - loss: 193.9112 - mae: 10.9979 - val_loss: 179.0098 - val_mae: 10.5434\n",
            "Epoch 9/10\n",
            "\u001b[1m18371/18371\u001b[0m \u001b[32m━━━━━━━━━━━━━━━━━━━━\u001b[0m\u001b[37m\u001b[0m \u001b[1m84s\u001b[0m 3ms/step - loss: 193.2640 - mae: 10.9697 - val_loss: 178.0516 - val_mae: 10.5557\n",
            "Epoch 10/10\n",
            "\u001b[1m18371/18371\u001b[0m \u001b[32m━━━━━━━━━━━━━━━━━━━━\u001b[0m\u001b[37m\u001b[0m \u001b[1m61s\u001b[0m 3ms/step - loss: 193.7186 - mae: 10.9925 - val_loss: 177.5465 - val_mae: 10.4971\n"
          ]
        },
        {
          "output_type": "display_data",
          "data": {
            "text/plain": [
              "<Figure size 640x480 with 1 Axes>"
            ],
            "image/png": "[encoded data removed]"
          },
          "metadata": {}
        },
        {
          "output_type": "stream",
          "name": "stdout",
          "text": [
            "\u001b[1m1149/1149\u001b[0m \u001b[32m━━━━━━━━━━━━━━━━━━━━\u001b[0m\u001b[37m\u001b[0m \u001b[1m2s\u001b[0m 2ms/step\n",
            "MSE: 177.53769322810368\n",
            "RMSE: 13.3243271210258\n",
            "MAE: 10.497093196526372\n"
          ]
        }
      ]
    },
    {
      "cell_type": "code",
      "source": [
        "best_hps.values"
      ],
      "metadata": {
        "colab": {
          "base_uri": "https://localhost:8080/"
        },
        "id": "bX2VI33VORxn",
        "outputId": "31f7c5b9-63cc-476d-9a99-86088894e425"
      },
      "execution_count": null,
      "outputs": [
        {
          "output_type": "execute_result",
          "data": {
            "text/plain": [
              "{'units_1': 96,\n",
              " 'units_2': 32,\n",
              " 'units_3': 32,\n",
              " 'learning_rate': 0.0001,\n",
              " 'dropout_1': 0.1,\n",
              " 'l2_1': 0.0001,\n",
              " 'dropout_2': 0.1,\n",
              " 'l2_2': 0.0001}"
            ]
          },
          "metadata": {},
          "execution_count": 161
        }
      ]
    },
    {
      "cell_type": "markdown",
      "source": [
        "# Leading Questions:\n",
        "\n",
        "Defining the problem statements and where can this and modifications of this be used?\n",
        "List 3 functions the pandas datetime provides with one line explanation.\n",
        "Short note on datetime, timedelta, time span (period)\n",
        "Why do we need to check for outliers in our data?\n",
        "Name 3 outlier removal methods?\n",
        "What classical machine learning methods can we use for this problem?\n",
        "Why is scaling required for neural networks?\n",
        "Briefly explain your choice of optimizer.\n",
        "Which activation function did you use and why?\n",
        "Why does a neural network perform well on a large dataset?"
      ],
      "metadata": {
        "id": "IqVeeKV4coxR"
      }
    },
    {
      "cell_type": "markdown",
      "source": [],
      "metadata": {
        "id": "5z72pzwHqHCn"
      }
    },
    {
      "cell_type": "markdown",
      "source": [
        "\n",
        "# Defining the problem statements and where can this and modifications of this be used?\n",
        "\n",
        "\n",
        "Its about predicting the delivery time taken by partner to deliver any item from shop to the customer considering the market area, category of store, number of items, and other important info available in fields given."
      ],
      "metadata": {
        "id": "3FrDhuYwmDa7"
      }
    },
    {
      "cell_type": "markdown",
      "source": [
        "# List 3 functions the pandas datetime provides with one line explanation. Short note on datetime, timedelta, time span (period)\n",
        "\n",
        "\n",
        "1) pd.to_datetime(): convert string to date time\n",
        "2) dt.dayofweek(): gives day of week\n",
        "3) dt.strftime(): Formats datetime values into string format.\n",
        "\n",
        "\n",
        "datetime : Represents a specific point in time.\n",
        "timedelta Represents a difference or duration between two datetime values\n",
        "Period:  Represents a time span such as a month or year"
      ],
      "metadata": {
        "id": "QJCsl9SnnDDT"
      }
    },
    {
      "cell_type": "markdown",
      "source": [
        "# Why do we need to check for outliers in our data? Name 3 outlier removal methods?\n",
        "\n",
        "Outliers can make model overfit, giving high accuracy in training but very low accouracy in actual test data as model fits every noisy point and does not follow the generalised pattern over the duration.\n",
        "\n",
        "Methods to remove\n",
        "1) IQR\n",
        "2) Iforest\n",
        "3) LOF/DBScan\n",
        "4) Standerd deviation"
      ],
      "metadata": {
        "id": "X_ekhNnbn_Pz"
      }
    },
    {
      "cell_type": "markdown",
      "source": [
        "# What classical machine learning methods can we use for this problem?\n",
        "\n",
        "1) Polynomial regression for smaller data.\n",
        "2) Random forest Regressor or Xgboost(Or Ensembling methods) for better accuarcy"
      ],
      "metadata": {
        "id": "Fy2peHIsoid6"
      }
    },
    {
      "cell_type": "markdown",
      "source": [
        "# Why is scaling required for neural networks?\n",
        "\n",
        "If we dont scale the data, the model will give high weightage to fields with higher values and lower weightage to fields with lower values, leading to biasness towards some high value fields, for example:\n",
        "\n",
        "Engine Power (HP): 100 - 500\n",
        "Weight (kg): 800 - 2500\n",
        "Mileage (km/l): 5 - 30\n",
        "Age (years): 1 - 15\n",
        "Since Weight (kg) has much larger numerical values than Mileage (km/l) or Age (years), the model may give disproportionate importance to weight while ignoring the impact of mileage and age unless we scale the data properly."
      ],
      "metadata": {
        "id": "rXj1jWKXo8hC"
      }
    },
    {
      "cell_type": "markdown",
      "source": [
        "# Briefly explain your choice of optimizer.\n",
        "\n",
        "Adam optimizer as it takes care move fast convergence towards global minima also handle sparse data and noisy gradients."
      ],
      "metadata": {
        "id": "egBBYF-mqH6c"
      }
    },
    {
      "cell_type": "markdown",
      "source": [
        " # Which activation function did you use and why?\n",
        "\n",
        " Relu activation as it is a regression problem and it works well as it avoids vanishing gradient problem which can be observed in other activations like tanh."
      ],
      "metadata": {
        "id": "cpFHfDdlqrM5"
      }
    },
    {
      "cell_type": "markdown",
      "source": [
        "# Why does a neural network perform well on a large dataset?\n",
        "\n",
        "Becasuse it learns from the data, it learns complex relations between data points and takes care for feature selection part by itself. It learn the generalised pattern, avoids overfitting or underfitting with use of optimization and reguralizers."
      ],
      "metadata": {
        "id": "7hRN47hKq-Wo"
      }
    },
    {
      "cell_type": "code",
      "source": [],
      "metadata": {
        "id": "ZXRcZyoOmIfc"
      },
      "execution_count": null,
      "outputs": []
    }
  ]
}